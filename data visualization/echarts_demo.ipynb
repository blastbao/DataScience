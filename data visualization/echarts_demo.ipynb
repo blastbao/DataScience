{
 "cells": [
  {
   "cell_type": "code",
   "execution_count": 2,
   "metadata": {
    "collapsed": true
   },
   "outputs": [],
   "source": [
    "import tushare as ts\n",
    "import pandas as pd\n",
    "from IPython.display import HTML"
   ]
  },
  {
   "cell_type": "markdown",
   "metadata": {},
   "source": [
    "历年前十大股东持股情况\n",
    "======"
   ]
  },
  {
   "cell_type": "code",
   "execution_count": 3,
   "metadata": {
    "collapsed": false
   },
   "outputs": [],
   "source": [
    "#历年前十大股东持股情况\n",
    "df1, data1 = ts.top10_holders(code='600000', gdtype='0') #gdtype等于1时表示流通股"
   ]
  },
  {
   "cell_type": "code",
   "execution_count": 11,
   "metadata": {
    "collapsed": true
   },
   "outputs": [],
   "source": [
    "df1 = df1.sort_values('quarter', ascending=True)"
   ]
  },
  {
   "cell_type": "code",
   "execution_count": 12,
   "metadata": {
    "collapsed": false
   },
   "outputs": [
    {
     "data": {
      "text/html": [
       "<div>\n",
       "<table border=\"1\" class=\"dataframe\">\n",
       "  <thead>\n",
       "    <tr style=\"text-align: right;\">\n",
       "      <th></th>\n",
       "      <th>quarter</th>\n",
       "      <th>amount</th>\n",
       "      <th>changed</th>\n",
       "      <th>props</th>\n",
       "    </tr>\n",
       "  </thead>\n",
       "  <tbody>\n",
       "    <tr>\n",
       "      <th>9</th>\n",
       "      <td>2014-12-31</td>\n",
       "      <td>910420.45</td>\n",
       "      <td>-9064.14</td>\n",
       "      <td>48.81</td>\n",
       "    </tr>\n",
       "    <tr>\n",
       "      <th>8</th>\n",
       "      <td>2015-03-31</td>\n",
       "      <td>912166.01</td>\n",
       "      <td>1745.56</td>\n",
       "      <td>48.90</td>\n",
       "    </tr>\n",
       "    <tr>\n",
       "      <th>7</th>\n",
       "      <td>2015-06-30</td>\n",
       "      <td>937424.47</td>\n",
       "      <td>25258.46</td>\n",
       "      <td>50.25</td>\n",
       "    </tr>\n",
       "    <tr>\n",
       "      <th>6</th>\n",
       "      <td>2015-09-30</td>\n",
       "      <td>1157483.27</td>\n",
       "      <td>220058.80</td>\n",
       "      <td>62.05</td>\n",
       "    </tr>\n",
       "    <tr>\n",
       "      <th>5</th>\n",
       "      <td>2015-12-31</td>\n",
       "      <td>1318904.08</td>\n",
       "      <td>161420.81</td>\n",
       "      <td>70.70</td>\n",
       "    </tr>\n",
       "    <tr>\n",
       "      <th>4</th>\n",
       "      <td>2016-03-15</td>\n",
       "      <td>1364799.92</td>\n",
       "      <td>45895.84</td>\n",
       "      <td>73.16</td>\n",
       "    </tr>\n",
       "    <tr>\n",
       "      <th>3</th>\n",
       "      <td>2016-03-18</td>\n",
       "      <td>1440154.76</td>\n",
       "      <td>75354.84</td>\n",
       "      <td>73.27</td>\n",
       "    </tr>\n",
       "    <tr>\n",
       "      <th>2</th>\n",
       "      <td>2016-03-31</td>\n",
       "      <td>1439599.89</td>\n",
       "      <td>-554.87</td>\n",
       "      <td>73.25</td>\n",
       "    </tr>\n",
       "    <tr>\n",
       "      <th>1</th>\n",
       "      <td>2016-06-30</td>\n",
       "      <td>1587371.15</td>\n",
       "      <td>147771.26</td>\n",
       "      <td>73.42</td>\n",
       "    </tr>\n",
       "    <tr>\n",
       "      <th>0</th>\n",
       "      <td>2016-09-30</td>\n",
       "      <td>1585130.30</td>\n",
       "      <td>-2240.85</td>\n",
       "      <td>73.32</td>\n",
       "    </tr>\n",
       "  </tbody>\n",
       "</table>\n",
       "</div>"
      ],
      "text/plain": [
       "      quarter      amount    changed  props\n",
       "9  2014-12-31   910420.45   -9064.14  48.81\n",
       "8  2015-03-31   912166.01    1745.56  48.90\n",
       "7  2015-06-30   937424.47   25258.46  50.25\n",
       "6  2015-09-30  1157483.27  220058.80  62.05\n",
       "5  2015-12-31  1318904.08  161420.81  70.70\n",
       "4  2016-03-15  1364799.92   45895.84  73.16\n",
       "3  2016-03-18  1440154.76   75354.84  73.27\n",
       "2  2016-03-31  1439599.89    -554.87  73.25\n",
       "1  2016-06-30  1587371.15  147771.26  73.42\n",
       "0  2016-09-30  1585130.30   -2240.85  73.32"
      ]
     },
     "execution_count": 12,
     "metadata": {},
     "output_type": "execute_result"
    }
   ],
   "source": [
    "df1.tail(10)"
   ]
  },
  {
   "cell_type": "code",
   "execution_count": 16,
   "metadata": {
    "collapsed": false
   },
   "outputs": [
    {
     "name": "stdout",
     "output_type": "stream",
     "text": [
      "['2005-09-30', '2005-12-31', '2006-06-30', '2006-09-30', '2006-10-30', '2006-11-29', '2006-12-31', '2007-06-30', '2007-09-30', '2007-12-31', '2008-06-30', '2008-09-30', '2008-12-31', '2009-03-31', '2009-06-30', '2009-09-28', '2009-09-30', '2009-12-31', '2010-03-31', '2010-06-30', '2010-09-30', '2010-10-14', '2010-12-31', '2011-03-31', '2011-06-30', '2011-09-30', '2011-12-31', '2012-03-31', '2012-06-30', '2012-09-30', '2012-12-31', '2013-03-31', '2013-06-30', '2013-09-30', '2013-12-31', '2014-03-31', '2014-06-30', '2014-09-30', '2014-12-31', '2015-03-31', '2015-06-30', '2015-09-30', '2015-12-31', '2016-03-15', '2016-03-18', '2016-03-31', '2016-06-30', '2016-09-30']\n"
     ]
    }
   ],
   "source": [
    "qts = list(df1['quarter'])\n",
    "data = list(df1['props'])\n",
    "print(qts)"
   ]
  },
  {
   "cell_type": "code",
   "execution_count": 14,
   "metadata": {
    "collapsed": true
   },
   "outputs": [],
   "source": [
    "lgdstr = \"\"\"\n",
    "var axisData = \"\"\" + str(qts) + \"\"\";\n",
    "var data = \"\"\" + str(data) + \"\"\";\n",
    "var links = data.map(function (item, i) {\n",
    "    return {\n",
    "        source: i,\n",
    "        target: i + 1\n",
    "    };\n",
    "});\n",
    "links.pop();\n",
    "option = {\n",
    "    title: {\n",
    "        text: '【浦发银行】前十大流通股dog持股占比'\n",
    "    },\n",
    "    tooltip: {\n",
    "        trigger: 'item'\n",
    "    },\n",
    "    xAxis: {\n",
    "        type : 'category',\n",
    "        boundaryGap : false,\n",
    "        data : axisData\n",
    "    },\n",
    "    yAxis: {\n",
    "        type : 'value'\n",
    "    },\n",
    "    series: [\n",
    "        {\n",
    "            type: 'line',\n",
    "            layout: 'none',\n",
    "            coordinateSystem: 'cartesian2d',\n",
    "            symbolSize: 10,\n",
    "            label: {\n",
    "                normal: {\n",
    "                    show: true\n",
    "                }\n",
    "            },\n",
    "            edgeSymbol: ['circle', 'arrow'],\n",
    "            edgeSymbolSize: [2, 5],\n",
    "            data: data,\n",
    "            links: links,\n",
    "            lineStyle: {\n",
    "                normal: {\n",
    "                    color: '#2f4554'\n",
    "                }\n",
    "            }\n",
    "        }\n",
    "    ]\n",
    "};\n",
    "\"\"\""
   ]
  },
  {
   "cell_type": "code",
   "execution_count": 8,
   "metadata": {
    "collapsed": true
   },
   "outputs": [],
   "source": [
    "headstr = \"\"\"\n",
    "<div id=\"showhere\" style=\"width:800px; height:600px;\"></div> \n",
    "<script> \n",
    "require.config({ paths:{ echarts: '//cdn.bootcss.com/echarts/3.2.3/echarts.min', } });\n",
    "require(['echarts'],function(ec){\n",
    "var myChart = ec.init(document.getElementById('showhere'));\n",
    "\"\"\"\n",
    "\n",
    "tailstr = \"\"\"\n",
    "myChart.setOption(option);\n",
    "    });\n",
    "</script>\n",
    "\"\"\""
   ]
  },
  {
   "cell_type": "code",
   "execution_count": 15,
   "metadata": {
    "collapsed": false
   },
   "outputs": [
    {
     "data": {
      "text/html": [
       "\n",
       "<div id=\"showhere\" style=\"width:800px; height:600px;\"></div> \n",
       "<script> \n",
       "require.config({ paths:{ echarts: '//cdn.bootcss.com/echarts/3.2.3/echarts.min', } });\n",
       "require(['echarts'],function(ec){\n",
       "var myChart = ec.init(document.getElementById('showhere'));\n",
       "\n",
       "var axisData = ['2005-09-30', '2005-12-31', '2006-06-30', '2006-09-30', '2006-10-30', '2006-11-29', '2006-12-31', '2007-06-30', '2007-09-30', '2007-12-31', '2008-06-30', '2008-09-30', '2008-12-31', '2009-03-31', '2009-06-30', '2009-09-28', '2009-09-30', '2009-12-31', '2010-03-31', '2010-06-30', '2010-09-30', '2010-10-14', '2010-12-31', '2011-03-31', '2011-06-30', '2011-09-30', '2011-12-31', '2012-03-31', '2012-06-30', '2012-09-30', '2012-12-31', '2013-03-31', '2013-06-30', '2013-09-30', '2013-12-31', '2014-03-31', '2014-06-30', '2014-09-30', '2014-12-31', '2015-03-31', '2015-06-30', '2015-09-30', '2015-12-31', '2016-03-15', '2016-03-18', '2016-03-31', '2016-06-30', '2016-09-30'];\n",
       "var data = ['37.94', '37.31', '45.81', '45.81', '45.81', '47.20', '47.11', '48.82', '47.99', '47.39', '47.09', '45.48', '44.38', '44.24', '43.86', '40.82', '40.84', '41.11', '40.95', '41.10', '41.11', '52.00', '52.51', '52.51', '52.09', '52.06', '51.95', '50.35', '50.08', '50.13', '49.35', '48.95', '49.34', '49.36', '49.47', '49.87', '48.72', '49.29', '48.81', '48.90', '50.25', '62.05', '70.70', '73.16', '73.27', '73.25', '73.42', '73.32'];\n",
       "var links = data.map(function (item, i) {\n",
       "    return {\n",
       "        source: i,\n",
       "        target: i + 1\n",
       "    };\n",
       "});\n",
       "links.pop();\n",
       "option = {\n",
       "    title: {\n",
       "        text: '【浦发银行】前十大流通股dog持股占比'\n",
       "    },\n",
       "    tooltip: {\n",
       "        trigger: 'item'\n",
       "    },\n",
       "    xAxis: {\n",
       "        type : 'category',\n",
       "        boundaryGap : false,\n",
       "        data : axisData\n",
       "    },\n",
       "    yAxis: {\n",
       "        type : 'value'\n",
       "    },\n",
       "    series: [\n",
       "        {\n",
       "            type: 'line',\n",
       "            layout: 'none',\n",
       "            coordinateSystem: 'cartesian2d',\n",
       "            symbolSize: 10,\n",
       "            label: {\n",
       "                normal: {\n",
       "                    show: true\n",
       "                }\n",
       "            },\n",
       "            edgeSymbol: ['circle', 'arrow'],\n",
       "            edgeSymbolSize: [2, 5],\n",
       "            data: data,\n",
       "            links: links,\n",
       "            lineStyle: {\n",
       "                normal: {\n",
       "                    color: '#2f4554'\n",
       "                }\n",
       "            }\n",
       "        }\n",
       "    ]\n",
       "};\n",
       "\n",
       "myChart.setOption(option);\n",
       "    });\n",
       "</script>\n"
      ],
      "text/plain": [
       "<IPython.core.display.HTML object>"
      ]
     },
     "execution_count": 15,
     "metadata": {},
     "output_type": "execute_result"
    }
   ],
   "source": [
    "HTML(headstr + lgdstr + tailstr)"
   ]
  }
 ],
 "metadata": {
  "anaconda-cloud": {},
  "kernelspec": {
   "display_name": "Python [Root]",
   "language": "python",
   "name": "Python [Root]"
  },
  "language_info": {
   "codemirror_mode": {
    "name": "ipython",
    "version": 3
   },
   "file_extension": ".py",
   "mimetype": "text/x-python",
   "name": "python",
   "nbconvert_exporter": "python",
   "pygments_lexer": "ipython3",
   "version": "3.5.2"
  }
 },
 "nbformat": 4,
 "nbformat_minor": 1
}
